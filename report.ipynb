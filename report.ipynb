{
 "cells": [
  {
   "cell_type": "markdown",
   "id": "fb4d6d2b",
   "metadata": {},
   "source": [
    "# Projectile Motion Report\n",
    "\n",
    "Group Project"
   ]
  },
  {
   "cell_type": "code",
   "execution_count": 1,
   "id": "17803f28",
   "metadata": {},
   "outputs": [],
   "source": [
    "import numpy as np\n",
    "from solver import *"
   ]
  },
  {
   "cell_type": "code",
   "execution_count": null,
   "id": "313ca799",
   "metadata": {},
   "outputs": [],
   "source": []
  }
 ],
 "metadata": {
  "kernelspec": {
   "display_name": "base",
   "language": "python",
   "name": "python3"
  },
  "language_info": {
   "codemirror_mode": {
    "name": "ipython",
    "version": 3
   },
   "file_extension": ".py",
   "mimetype": "text/x-python",
   "name": "python",
   "nbconvert_exporter": "python",
   "pygments_lexer": "ipython3",
   "version": "3.13.5"
  }
 },
 "nbformat": 4,
 "nbformat_minor": 5
}
